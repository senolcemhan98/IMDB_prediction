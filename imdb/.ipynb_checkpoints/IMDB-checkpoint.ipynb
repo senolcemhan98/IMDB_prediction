{
 "cells": [
  {
   "cell_type": "markdown",
   "metadata": {},
   "source": [
    "# Import Libs and Data"
   ]
  },
  {
   "cell_type": "code",
   "execution_count": 17,
   "metadata": {},
   "outputs": [],
   "source": [
    "import numpy as np\n",
    "import pandas as pd\n",
    "import matplotlib.pyplot as plt\n",
    "import seaborn as sns\n",
    "from scipy import stats\n",
    "\n",
    "from keras.datasets import imdb\n",
    "from keras.preprocessing.sequence import pad_sequences\n",
    "from keras.models import Sequential\n",
    "from keras.layers.embeddings import Embedding\n",
    "from keras.layers import SimpleRNN, Dense, Activation"
   ]
  },
  {
   "cell_type": "code",
   "execution_count": 5,
   "metadata": {},
   "outputs": [
    {
     "name": "stdout",
     "output_type": "stream",
     "text": [
      "Downloading data from https://storage.googleapis.com/tensorflow/tf-keras-datasets/imdb.npz\n",
      "17465344/17464789 [==============================] - 4s 0us/step\n"
     ]
    }
   ],
   "source": [
    "(X_train,y_train),(X_test,y_test)=imdb.load_data(path = \"imdb.npz\",\n",
    "                                                  num_words = None,\n",
    "                                                  skip_top = 0,\n",
    "                                                  maxlen = None,\n",
    "                                                  seed = 113,\n",
    "                                                  start_char = 1,\n",
    "                                                  oov_char = 2,\n",
    "                                                  index_from = 3)"
   ]
  },
  {
   "cell_type": "markdown",
   "metadata": {},
   "source": [
    "# EDA"
   ]
  },
  {
   "cell_type": "code",
   "execution_count": 9,
   "metadata": {},
   "outputs": [],
   "source": [
    "review_len_train = []\n",
    "review_len_test = []\n",
    "for ti, tj in zip(X_train,X_test):\n",
    "    review_len_train.append(len(ti))\n",
    "    review_len_test.append(len(tj))"
   ]
  },
  {
   "cell_type": "code",
   "execution_count": 16,
   "metadata": {},
   "outputs": [
    {
     "data": {
      "text/plain": [
       "<matplotlib.axes._subplots.AxesSubplot at 0x1a84516cfd0>"
      ]
     },
     "execution_count": 16,
     "metadata": {},
     "output_type": "execute_result"
    },
    {
     "data": {
      "image/png": "[encoded data removed]",
      "text/plain": [
       "<Figure size 720x576 with 1 Axes>"
      ]
     },
     "metadata": {
      "needs_background": "light"
     },
     "output_type": "display_data"
    }
   ],
   "source": [
    "plt.figure(figsize=(10,8))\n",
    "sns.distplot(review_len_train, color = 'green')\n",
    "sns.distplot(review_len_test, color = 'red',hist_kws={\"alpha\":0.2})"
   ]
  },
  {
   "cell_type": "code",
   "execution_count": 18,
   "metadata": {},
   "outputs": [
    {
     "name": "stdout",
     "output_type": "stream",
     "text": [
      "Train mean: 238.71364\n",
      "Train median: 178.0\n",
      "Train mode: ModeResult(mode=array([132]), count=array([196]))\n"
     ]
    }
   ],
   "source": [
    "print(\"Train mean:\", np.mean(review_len_train))\n",
    "print(\"Train median:\", np.median(review_len_train))\n",
    "print(\"Train mode:\", stats.mode(review_len_train))"
   ]
  },
  {
   "cell_type": "code",
   "execution_count": 19,
   "metadata": {},
   "outputs": [
    {
     "name": "stdout",
     "output_type": "stream",
     "text": [
      "Downloading data from https://storage.googleapis.com/tensorflow/tf-keras-datasets/imdb_word_index.json\n",
      "1646592/1641221 [==============================] - 1s 0us/step\n",
      "<class 'dict'>\n"
     ]
    }
   ],
   "source": [
    "#number of words\n",
    "word_index = imdb.get_word_index()\n",
    "print(type(word_index))"
   ]
  },
  {
   "cell_type": "code",
   "execution_count": 21,
   "metadata": {},
   "outputs": [
    {
     "name": "stdout",
     "output_type": "stream",
     "text": [
      "88584\n"
     ]
    }
   ],
   "source": [
    "print(len(word_index))"
   ]
  },
  {
   "cell_type": "code",
   "execution_count": 24,
   "metadata": {},
   "outputs": [
    {
     "name": "stdout",
     "output_type": "stream",
     "text": [
      "11111 : income\n",
      "100 : after\n",
      "1 : the\n"
     ]
    }
   ],
   "source": [
    "for keys, values in word_index.items():\n",
    "    if values == 1 or values == 100 or values == 11111:\n",
    "        print(\"{} : {}\".format(values,keys))"
   ]
  },
  {
   "cell_type": "code",
   "execution_count": 25,
   "metadata": {},
   "outputs": [],
   "source": [
    "def whatItSay(index = 24):\n",
    "    reverse_index = dict([(value,key) for (key, value) in word_index.items()])\n",
    "    decode_review = \" \".join([reverse_index.get(i-3,\"!\") for i in X_train[index]])\n",
    "    print(decode_review)\n",
    "    print(y_train[index])\n",
    "    return decode_review"
   ]
  },
  {
   "cell_type": "code",
   "execution_count": 26,
   "metadata": {},
   "outputs": [
    {
     "name": "stdout",
     "output_type": "stream",
     "text": [
      "! sorry i just didn't find the subject matter as compelling as the filmmaker did the robot guy and the mole rat guy were pretty interesting although morris didn't really tell us much about them the other two subjects were a bore and the supposed connections between them didn't hold up\n",
      "0\n"
     ]
    }
   ],
   "source": [
    "decoded_review = whatItSay(36)"
   ]
  },
  {
   "cell_type": "markdown",
   "metadata": {},
   "source": [
    "# Preprocess"
   ]
  },
  {
   "cell_type": "code",
   "execution_count": 30,
   "metadata": {},
   "outputs": [],
   "source": [
    "num_words = 20000\n",
    "maxlen = 150\n",
    "(X_train, y_train), (X_test, y_test) = imdb.load_data(num_words=num_words)"
   ]
  },
  {
   "cell_type": "code",
   "execution_count": 31,
   "metadata": {},
   "outputs": [],
   "source": [
    "X_train = pad_sequences(X_train, maxlen=maxlen)\n",
    "X_test = pad_sequences(X_test, maxlen=maxlen)"
   ]
  },
  {
   "cell_type": "code",
   "execution_count": 32,
   "metadata": {},
   "outputs": [
    {
     "name": "stdout",
     "output_type": "stream",
     "text": [
      "[    0     0     0     0     0     0     0     0     0     0     0     0\n",
      "     0     0     0     0     0     0     0     0     0     0     0     0\n",
      "     0     0     0     0     0     0     0     0     0     0     0     0\n",
      "     0     0     0     0     0     0     0     0     0     0     0     0\n",
      "     0     0     0     0     0     0     0     0     0     0     0     0\n",
      "     0     0     0     0     0     0     0     0     0     0     0     0\n",
      "     0     0     0     0     0     0     0     0     0     0     0     0\n",
      "     0     0     0     0     0     0     0     0     0     0     0     0\n",
      "     0     0     0     0     0     0     0     0     0     0     0     1\n",
      "   778   128    74    12   630   163    15     4  1766  7982  1051     2\n",
      "    32    85   156    45    40   148   139   121   664   665    10    10\n",
      "  1361   173     4   749     2    16  3804     8     4   226    65    12\n",
      "    43   127    24 15344    10    10]\n"
     ]
    }
   ],
   "source": [
    "print(X_train[5])"
   ]
  },
  {
   "cell_type": "code",
   "execution_count": 33,
   "metadata": {},
   "outputs": [
    {
     "name": "stdout",
     "output_type": "stream",
     "text": [
      "150\n",
      "150\n",
      "150\n",
      "150\n",
      "150\n",
      "150\n",
      "150\n",
      "150\n",
      "150\n",
      "150\n"
     ]
    }
   ],
   "source": [
    "for i in X_train[:10]:\n",
    "    print(len(i))    "
   ]
  },
  {
   "cell_type": "code",
   "execution_count": 34,
   "metadata": {},
   "outputs": [
    {
     "name": "stdout",
     "output_type": "stream",
     "text": [
      "! ! ! ! ! ! ! ! ! ! ! ! ! ! ! ! ! ! ! ! ! ! ! ! ! ! ! ! ! ! ! ! ! ! ! ! ! ! ! ! ! ! ! ! ! ! ! ! ! ! ! ! ! ! ! ! ! ! ! ! ! ! ! ! ! ! ! ! ! ! ! ! ! ! ! ! ! ! ! ! ! ! ! ! ! ! ! ! ! ! ! ! ! ! ! ! ! ! ! ! ! ! ! ! ! ! ! ! begins better than it ends funny that the russian submarine crew ! all other actors it's like those scenes where documentary shots br br spoiler part the message ! was contrary to the whole story it just does not mesh br br\n",
      "0\n"
     ]
    }
   ],
   "source": [
    "decoded_review = whatItSay(5)"
   ]
  },
  {
   "cell_type": "markdown",
   "metadata": {},
   "source": [
    "# Build RNN Model & Train Model"
   ]
  },
  {
   "cell_type": "code",
   "execution_count": 35,
   "metadata": {},
   "outputs": [
    {
     "name": "stdout",
     "output_type": "stream",
     "text": [
      "Model: \"sequential\"\n",
      "_________________________________________________________________\n",
      "Layer (type)                 Output Shape              Param #   \n",
      "=================================================================\n",
      "embedding (Embedding)        (None, 150, 32)           640000    \n",
      "_________________________________________________________________\n",
      "simple_rnn (SimpleRNN)       (None, 16)                784       \n",
      "_________________________________________________________________\n",
      "dense (Dense)                (None, 1)                 17        \n",
      "_________________________________________________________________\n",
      "activation (Activation)      (None, 1)                 0         \n",
      "=================================================================\n",
      "Total params: 640,801\n",
      "Trainable params: 640,801\n",
      "Non-trainable params: 0\n",
      "_________________________________________________________________\n",
      "None\n"
     ]
    }
   ],
   "source": [
    "rnn = Sequential()\n",
    "rnn.add(Embedding(num_words,32,input_length = len(X_train[0])))\n",
    "rnn.add(SimpleRNN(16, input_shape = (num_words, maxlen), return_sequences = False, activation = \"relu\"))\n",
    "rnn.add(Dense(1))\n",
    "rnn.add(Activation(\"sigmoid\"))\n",
    "\n",
    "print(rnn.summary())\n",
    "rnn.compile(loss=\"binary_crossentropy\", optimizer = \"rmsprop\", metrics = [\"accuracy\"])"
   ]
  },
  {
   "cell_type": "code",
   "execution_count": 37,
   "metadata": {},
   "outputs": [
    {
     "name": "stdout",
     "output_type": "stream",
     "text": [
      "Epoch 1/5\n",
      "196/196 [==============================] - 12s 63ms/step - loss: 0.5698 - accuracy: 0.7257 - val_loss: 0.4925 - val_accuracy: 0.8124\n",
      "Epoch 2/5\n",
      "196/196 [==============================] - 13s 67ms/step - loss: 0.3806 - accuracy: 0.8506 - val_loss: 0.3682 - val_accuracy: 0.8428\n",
      "Epoch 3/5\n",
      "196/196 [==============================] - 14s 73ms/step - loss: 0.2827 - accuracy: 0.8856 - val_loss: 0.3320 - val_accuracy: 0.8555\n",
      "Epoch 4/5\n",
      "196/196 [==============================] - 15s 75ms/step - loss: 0.2353 - accuracy: 0.9065 - val_loss: 0.3561 - val_accuracy: 0.8561\n",
      "Epoch 5/5\n",
      "196/196 [==============================] - 15s 75ms/step - loss: 0.2042 - accuracy: 0.9201 - val_loss: 0.3970 - val_accuracy: 0.8450\n"
     ]
    }
   ],
   "source": [
    "history = rnn.fit(X_train, y_train, validation_data=(X_test, y_test), epochs = 5, batch_size = 128, verbose = 1)"
   ]
  },
  {
   "cell_type": "code",
   "execution_count": 39,
   "metadata": {},
   "outputs": [
    {
     "name": "stdout",
     "output_type": "stream",
     "text": [
      "782/782 [==============================] - 5s 6ms/step - loss: 0.3970 - accuracy: 0.8450\n",
      " Accuracy : % 84.50400233268738\n"
     ]
    }
   ],
   "source": [
    "score = rnn.evaluate(X_test, y_test)\n",
    "print(\" Accuracy : %\", score[1]*100)"
   ]
  },
  {
   "cell_type": "markdown",
   "metadata": {},
   "source": [
    "## Accuracy and Loss w Epochs"
   ]
  },
  {
   "cell_type": "code",
   "execution_count": 42,
   "metadata": {},
   "outputs": [
    {
     "data": {
      "image/png": "[encoded data removed]",
      "text/plain": [
       "<Figure size 720x576 with 1 Axes>"
      ]
     },
     "metadata": {
      "needs_background": "light"
     },
     "output_type": "display_data"
    }
   ],
   "source": [
    "plt.figure(figsize = (10,8))\n",
    "plt.plot(history.history[\"accuracy\"], label = \"train\")\n",
    "plt.plot(history.history[\"val_accuracy\"], label = \"test\")\n",
    "plt.ylabel(\"Acc\")\n",
    "plt.xlabel(\"Epoch\")\n",
    "plt.legend()\n",
    "plt.show()"
   ]
  },
  {
   "cell_type": "code",
   "execution_count": 43,
   "metadata": {},
   "outputs": [
    {
     "data": {
      "image/png": "[encoded data removed]",
      "text/plain": [
       "<Figure size 720x576 with 1 Axes>"
      ]
     },
     "metadata": {
      "needs_background": "light"
     },
     "output_type": "display_data"
    }
   ],
   "source": [
    "plt.figure(figsize = (10,8))\n",
    "plt.plot(history.history[\"loss\"], label = \"train\")\n",
    "plt.plot(history.history[\"val_loss\"], label = \"test\")\n",
    "plt.ylabel(\"Acc\")\n",
    "plt.xlabel(\"Epoch\")\n",
    "plt.legend()\n",
    "plt.show()"
   ]
  },
  {
   "cell_type": "code",
   "execution_count": null,
   "metadata": {},
   "outputs": [],
   "source": []
  }
 ],
 "metadata": {
  "kernelspec": {
   "display_name": "Python 3",
   "language": "python",
   "name": "python3"
  },
  "language_info": {
   "codemirror_mode": {
    "name": "ipython",
    "version": 3
   },
   "file_extension": ".py",
   "mimetype": "text/x-python",
   "name": "python",
   "nbconvert_exporter": "python",
   "pygments_lexer": "ipython3",
   "version": "3.8.3"
  }
 },
 "nbformat": 4,
 "nbformat_minor": 4
}
